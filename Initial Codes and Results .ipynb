{
 "cells": [
  {
   "cell_type": "markdown",
   "id": "1331d73a",
   "metadata": {},
   "source": [
    "# CIND820: Big Data Analytics Project\n",
    "## Data: Estimation of obesity levels based on eating habits and physical condition\n",
    "### Initial Coding and Results"
   ]
  },
  {
   "cell_type": "markdown",
   "id": "1ea9b5b2",
   "metadata": {},
   "source": [
    "For initial coding, following steps were used: \n",
    "\n",
    "Step 1: Import libraries "
   ]
  },
  {
   "cell_type": "markdown",
   "id": "a7557412",
   "metadata": {},
   "source": [
    "I imported the necessary required libraries such as Pandas, Numpy, Matplotlib, Scikit-learn, and any other necessary libraries."
   ]
  },
  {
   "cell_type": "code",
   "execution_count": 124,
   "id": "e86a5d49",
   "metadata": {
    "scrolled": true
   },
   "outputs": [
    {
     "name": "stdout",
     "output_type": "stream",
     "text": [
      "Requirement already satisfied: xgboost in c:\\users\\hp\\anaconda3\\lib\\site-packages (1.7.4)\n",
      "Requirement already satisfied: scipy in c:\\users\\hp\\anaconda3\\lib\\site-packages (from xgboost) (1.7.1)\n",
      "Requirement already satisfied: numpy in c:\\users\\hp\\anaconda3\\lib\\site-packages (from xgboost) (1.20.3)\n"
     ]
    }
   ],
   "source": [
    "import pandas as pd\n",
    "import numpy as np\n",
    "import seaborn as sns\n",
    "\n",
    "import matplotlib.pyplot as plt\n",
    "from sklearn.preprocessing import MinMaxScaler\n",
    "from sklearn.preprocessing import LabelEncoder\n",
    "from sklearn.preprocessing import StandardScaler\n",
    "from sklearn.model_selection import train_test_split\n",
    "from sklearn.dummy import DummyClassifier\n",
    "from sklearn.svm import SVC\n",
    "from sklearn import metrics\n",
    "from sklearn.metrics import accuracy_score\n",
    "from sklearn.tree import DecisionTreeClassifier\n",
    "from sklearn.ensemble import RandomForestClassifier\n",
    "from sklearn.linear_model import LogisticRegression\n",
    "from sklearn.neighbors import KNeighborsClassifier\n",
    "from sklearn.model_selection import cross_val_score\n",
    "from sklearn.model_selection import RepeatedStratifiedKFold\n",
    "from yellowbrick.features import FeatureImportances\n",
    "from sklearn.feature_selection import SelectKBest, f_classif\n",
    "from sklearn.model_selection import KFold, cross_val_score\n",
    "from sklearn.datasets import make_classification\n",
    "from sklearn.inspection import permutation_importance\n",
    "from xgboost import XGBClassifier\n",
    "from sklearn.metrics import precision_score, recall_score, f1_score\n",
    "\n",
    "\n",
    "#installing dependencies\n",
    "!pip install xgboost\n",
    "\n",
    "# Creating a instance of label Encoder.\n",
    "le = LabelEncoder()\n",
    "svc = SVC()\n",
    "\n",
    "import warnings\n",
    "warnings.filterwarnings(\"ignore\")"
   ]
  },
  {
   "cell_type": "markdown",
   "id": "c4ed69c3",
   "metadata": {},
   "source": [
    "Step 2: Load and preprocess data: \n"
   ]
  },
  {
   "cell_type": "markdown",
   "id": "0a795a21",
   "metadata": {},
   "source": [
    "I loaded the data into Jupyter Notebook using the Pandas library, preprocessed including cleaning the data, handling missing values, transforming variables, and normalization. The details are mentioned below:"
   ]
  },
  {
   "cell_type": "markdown",
   "id": "a14e2338",
   "metadata": {},
   "source": [
    "1. Load the data"
   ]
  },
  {
   "cell_type": "code",
   "execution_count": 125,
   "id": "9910ff99",
   "metadata": {},
   "outputs": [
    {
     "data": {
      "text/html": [
       "<div>\n",
       "<style scoped>\n",
       "    .dataframe tbody tr th:only-of-type {\n",
       "        vertical-align: middle;\n",
       "    }\n",
       "\n",
       "    .dataframe tbody tr th {\n",
       "        vertical-align: top;\n",
       "    }\n",
       "\n",
       "    .dataframe thead th {\n",
       "        text-align: right;\n",
       "    }\n",
       "</style>\n",
       "<table border=\"1\" class=\"dataframe\">\n",
       "  <thead>\n",
       "    <tr style=\"text-align: right;\">\n",
       "      <th></th>\n",
       "      <th>Gender</th>\n",
       "      <th>Age</th>\n",
       "      <th>Height</th>\n",
       "      <th>Weight</th>\n",
       "      <th>family_history</th>\n",
       "      <th>FAVC</th>\n",
       "      <th>FCVC</th>\n",
       "      <th>NCP</th>\n",
       "      <th>CAEC</th>\n",
       "      <th>SMOKE</th>\n",
       "      <th>CH2O</th>\n",
       "      <th>SCC</th>\n",
       "      <th>FAF</th>\n",
       "      <th>TUE</th>\n",
       "      <th>CALC</th>\n",
       "      <th>MTRANS</th>\n",
       "      <th>NObeyesdad</th>\n",
       "    </tr>\n",
       "  </thead>\n",
       "  <tbody>\n",
       "    <tr>\n",
       "      <th>0</th>\n",
       "      <td>Female</td>\n",
       "      <td>21.0</td>\n",
       "      <td>1.62</td>\n",
       "      <td>64.0</td>\n",
       "      <td>yes</td>\n",
       "      <td>no</td>\n",
       "      <td>2.0</td>\n",
       "      <td>3.0</td>\n",
       "      <td>Sometimes</td>\n",
       "      <td>no</td>\n",
       "      <td>2.0</td>\n",
       "      <td>no</td>\n",
       "      <td>0.0</td>\n",
       "      <td>1.0</td>\n",
       "      <td>no</td>\n",
       "      <td>Public_Transportation</td>\n",
       "      <td>Normal_Weight</td>\n",
       "    </tr>\n",
       "    <tr>\n",
       "      <th>1</th>\n",
       "      <td>Female</td>\n",
       "      <td>21.0</td>\n",
       "      <td>1.52</td>\n",
       "      <td>56.0</td>\n",
       "      <td>yes</td>\n",
       "      <td>no</td>\n",
       "      <td>3.0</td>\n",
       "      <td>3.0</td>\n",
       "      <td>Sometimes</td>\n",
       "      <td>yes</td>\n",
       "      <td>3.0</td>\n",
       "      <td>yes</td>\n",
       "      <td>3.0</td>\n",
       "      <td>0.0</td>\n",
       "      <td>Sometimes</td>\n",
       "      <td>Public_Transportation</td>\n",
       "      <td>Normal_Weight</td>\n",
       "    </tr>\n",
       "    <tr>\n",
       "      <th>2</th>\n",
       "      <td>Male</td>\n",
       "      <td>23.0</td>\n",
       "      <td>1.80</td>\n",
       "      <td>77.0</td>\n",
       "      <td>yes</td>\n",
       "      <td>no</td>\n",
       "      <td>2.0</td>\n",
       "      <td>3.0</td>\n",
       "      <td>Sometimes</td>\n",
       "      <td>no</td>\n",
       "      <td>2.0</td>\n",
       "      <td>no</td>\n",
       "      <td>2.0</td>\n",
       "      <td>1.0</td>\n",
       "      <td>Frequently</td>\n",
       "      <td>Public_Transportation</td>\n",
       "      <td>Normal_Weight</td>\n",
       "    </tr>\n",
       "    <tr>\n",
       "      <th>3</th>\n",
       "      <td>Male</td>\n",
       "      <td>27.0</td>\n",
       "      <td>1.80</td>\n",
       "      <td>87.0</td>\n",
       "      <td>no</td>\n",
       "      <td>no</td>\n",
       "      <td>3.0</td>\n",
       "      <td>3.0</td>\n",
       "      <td>Sometimes</td>\n",
       "      <td>no</td>\n",
       "      <td>2.0</td>\n",
       "      <td>no</td>\n",
       "      <td>2.0</td>\n",
       "      <td>0.0</td>\n",
       "      <td>Frequently</td>\n",
       "      <td>Walking</td>\n",
       "      <td>Overweight_Level_I</td>\n",
       "    </tr>\n",
       "    <tr>\n",
       "      <th>4</th>\n",
       "      <td>Male</td>\n",
       "      <td>22.0</td>\n",
       "      <td>1.78</td>\n",
       "      <td>89.8</td>\n",
       "      <td>no</td>\n",
       "      <td>no</td>\n",
       "      <td>2.0</td>\n",
       "      <td>1.0</td>\n",
       "      <td>Sometimes</td>\n",
       "      <td>no</td>\n",
       "      <td>2.0</td>\n",
       "      <td>no</td>\n",
       "      <td>0.0</td>\n",
       "      <td>0.0</td>\n",
       "      <td>Sometimes</td>\n",
       "      <td>Public_Transportation</td>\n",
       "      <td>Overweight_Level_II</td>\n",
       "    </tr>\n",
       "  </tbody>\n",
       "</table>\n",
       "</div>"
      ],
      "text/plain": [
       "   Gender   Age  Height  Weight family_history FAVC  FCVC  NCP       CAEC  \\\n",
       "0  Female  21.0    1.62    64.0            yes   no   2.0  3.0  Sometimes   \n",
       "1  Female  21.0    1.52    56.0            yes   no   3.0  3.0  Sometimes   \n",
       "2    Male  23.0    1.80    77.0            yes   no   2.0  3.0  Sometimes   \n",
       "3    Male  27.0    1.80    87.0             no   no   3.0  3.0  Sometimes   \n",
       "4    Male  22.0    1.78    89.8             no   no   2.0  1.0  Sometimes   \n",
       "\n",
       "  SMOKE  CH2O  SCC  FAF  TUE        CALC                 MTRANS  \\\n",
       "0    no   2.0   no  0.0  1.0          no  Public_Transportation   \n",
       "1   yes   3.0  yes  3.0  0.0   Sometimes  Public_Transportation   \n",
       "2    no   2.0   no  2.0  1.0  Frequently  Public_Transportation   \n",
       "3    no   2.0   no  2.0  0.0  Frequently                Walking   \n",
       "4    no   2.0   no  0.0  0.0   Sometimes  Public_Transportation   \n",
       "\n",
       "            NObeyesdad  \n",
       "0        Normal_Weight  \n",
       "1        Normal_Weight  \n",
       "2        Normal_Weight  \n",
       "3   Overweight_Level_I  \n",
       "4  Overweight_Level_II  "
      ]
     },
     "execution_count": 125,
     "metadata": {},
     "output_type": "execute_result"
    }
   ],
   "source": [
    "df=pd.read_csv(\"ObesityDataSet_raw_and_data_sinthetic.csv\")\n",
    "\n",
    "#View the data\n",
    "df.head()"
   ]
  },
  {
   "cell_type": "markdown",
   "id": "14bad063",
   "metadata": {},
   "source": [
    "2. Check if there are any missing values"
   ]
  },
  {
   "cell_type": "code",
   "execution_count": 126,
   "id": "2af212e4",
   "metadata": {
    "scrolled": true
   },
   "outputs": [
    {
     "data": {
      "text/plain": [
       "<AxesSubplot:>"
      ]
     },
     "execution_count": 126,
     "metadata": {},
     "output_type": "execute_result"
    },
    {
     "data": {
      "image/png": "[encoded data removed]",
      "text/plain": [
       "<Figure size 576x396 with 1 Axes>"
      ]
     },
     "metadata": {},
     "output_type": "display_data"
    }
   ],
   "source": [
    "df.shape\n",
    "sns.heatmap(df.isnull(), cbar=False, yticklabels=False, cmap='plasma')"
   ]
  },
  {
   "cell_type": "markdown",
   "id": "a73ffaea",
   "metadata": {},
   "source": [
    "The shape function and heatmapp informed that the data does not have any missing value."
   ]
  },
  {
   "cell_type": "markdown",
   "id": "d402525f",
   "metadata": {},
   "source": [
    "3. Check the duplicate rows"
   ]
  },
  {
   "cell_type": "code",
   "execution_count": 127,
   "id": "5d3752fa",
   "metadata": {},
   "outputs": [
    {
     "name": "stdout",
     "output_type": "stream",
     "text": [
      "(24, 17)\n"
     ]
    }
   ],
   "source": [
    "dup_df = df[df.duplicated()]\n",
    "print(dup_df.shape)"
   ]
  },
  {
   "cell_type": "markdown",
   "id": "c4a4be6c",
   "metadata": {},
   "source": [
    "This shows there are 24 rows of duplicate data. Hence this needs to be removed."
   ]
  },
  {
   "cell_type": "code",
   "execution_count": 128,
   "id": "7b937f64",
   "metadata": {},
   "outputs": [],
   "source": [
    "# Remove duplicates \n",
    "data = df.drop_duplicates()"
   ]
  },
  {
   "cell_type": "markdown",
   "id": "1543fa4e",
   "metadata": {},
   "source": [
    "4. Check categorical variables"
   ]
  },
  {
   "cell_type": "code",
   "execution_count": 129,
   "id": "a91f2bc1",
   "metadata": {},
   "outputs": [
    {
     "name": "stdout",
     "output_type": "stream",
     "text": [
      "Gender\n",
      "['Female' 'Male']\n",
      "\n",
      "\n",
      "family_history\n",
      "['yes' 'no']\n",
      "\n",
      "\n",
      "FAVC\n",
      "['no' 'yes']\n",
      "\n",
      "\n",
      "CAEC\n",
      "['Sometimes' 'Frequently' 'Always' 'no']\n",
      "\n",
      "\n",
      "SMOKE\n",
      "['no' 'yes']\n",
      "\n",
      "\n",
      "SCC\n",
      "['no' 'yes']\n",
      "\n",
      "\n",
      "CALC\n",
      "['no' 'Sometimes' 'Frequently' 'Always']\n",
      "\n",
      "\n",
      "MTRANS\n",
      "['Public_Transportation' 'Walking' 'Automobile' 'Motorbike' 'Bike']\n",
      "\n",
      "\n",
      "NObeyesdad\n",
      "['Normal_Weight' 'Overweight_Level_I' 'Overweight_Level_II'\n",
      " 'Obesity_Type_I' 'Insufficient_Weight' 'Obesity_Type_II'\n",
      " 'Obesity_Type_III']\n",
      "\n",
      "\n"
     ]
    }
   ],
   "source": [
    "# Checking unique values of categorical variables\n",
    "cat_col = ['Gender', 'family_history', 'FAVC', 'CAEC', 'SMOKE', 'SCC', 'CALC', 'MTRANS', 'NObeyesdad']\n",
    "\n",
    "for cat in cat_col:\n",
    "    print(cat)\n",
    "    print(data[cat].unique())\n",
    "    print(\"\\n\")"
   ]
  },
  {
   "cell_type": "code",
   "execution_count": 130,
   "id": "2670ef5e",
   "metadata": {},
   "outputs": [],
   "source": [
    "cols=[]\n",
    "for col in df.head(1):\n",
    "    cols.append(col)"
   ]
  },
  {
   "cell_type": "code",
   "execution_count": 131,
   "id": "84c9a564",
   "metadata": {},
   "outputs": [
    {
     "data": {
      "text/plain": [
       "array(['Normal_Weight', 'Overweight_Level_I', 'Overweight_Level_II',\n",
       "       'Obesity_Type_I', 'Insufficient_Weight', 'Obesity_Type_II',\n",
       "       'Obesity_Type_III'], dtype=object)"
      ]
     },
     "execution_count": 131,
     "metadata": {},
     "output_type": "execute_result"
    }
   ],
   "source": [
    "df['NObeyesdad'].unique()"
   ]
  },
  {
   "cell_type": "markdown",
   "id": "23b0d2f5",
   "metadata": {},
   "source": [
    "I converted the categorical features into numerical data. Categories such as CAEC, CALC, family_history and MTRANS follow a set order so this makes sense. The rest are have two classes."
   ]
  },
  {
   "cell_type": "code",
   "execution_count": 132,
   "id": "ac598679",
   "metadata": {},
   "outputs": [],
   "source": [
    "df['NObeyesdad'] = df['NObeyesdad'].map({'Normal_Weight' : 0, 'Overweight_Level_I': 1, 'Overweight_Level_II': 1, 'Insufficient_Weight': 0, \\\n",
    " 'Obesity_Type_I' : 2  , 'Obesity_Type_II' : 2, \\\n",
    " 'Obesity_Type_III' : 2 })"
   ]
  },
  {
   "cell_type": "code",
   "execution_count": 133,
   "id": "401985ba",
   "metadata": {},
   "outputs": [
    {
     "data": {
      "text/html": [
       "<div>\n",
       "<style scoped>\n",
       "    .dataframe tbody tr th:only-of-type {\n",
       "        vertical-align: middle;\n",
       "    }\n",
       "\n",
       "    .dataframe tbody tr th {\n",
       "        vertical-align: top;\n",
       "    }\n",
       "\n",
       "    .dataframe thead th {\n",
       "        text-align: right;\n",
       "    }\n",
       "</style>\n",
       "<table border=\"1\" class=\"dataframe\">\n",
       "  <thead>\n",
       "    <tr style=\"text-align: right;\">\n",
       "      <th></th>\n",
       "      <th>Gender</th>\n",
       "      <th>Age</th>\n",
       "      <th>Height</th>\n",
       "      <th>Weight</th>\n",
       "      <th>family_history</th>\n",
       "      <th>FAVC</th>\n",
       "      <th>FCVC</th>\n",
       "      <th>NCP</th>\n",
       "      <th>CAEC</th>\n",
       "      <th>SMOKE</th>\n",
       "      <th>CH2O</th>\n",
       "      <th>SCC</th>\n",
       "      <th>FAF</th>\n",
       "      <th>TUE</th>\n",
       "      <th>CALC</th>\n",
       "      <th>MTRANS</th>\n",
       "      <th>NObeyesdad</th>\n",
       "    </tr>\n",
       "  </thead>\n",
       "  <tbody>\n",
       "    <tr>\n",
       "      <th>0</th>\n",
       "      <td>1</td>\n",
       "      <td>21.0</td>\n",
       "      <td>1.62</td>\n",
       "      <td>64.0</td>\n",
       "      <td>1</td>\n",
       "      <td>0</td>\n",
       "      <td>2.0</td>\n",
       "      <td>3.0</td>\n",
       "      <td>1</td>\n",
       "      <td>1</td>\n",
       "      <td>2.0</td>\n",
       "      <td>1</td>\n",
       "      <td>0.0</td>\n",
       "      <td>1.0</td>\n",
       "      <td>0</td>\n",
       "      <td>1</td>\n",
       "      <td>0</td>\n",
       "    </tr>\n",
       "    <tr>\n",
       "      <th>1</th>\n",
       "      <td>1</td>\n",
       "      <td>21.0</td>\n",
       "      <td>1.52</td>\n",
       "      <td>56.0</td>\n",
       "      <td>1</td>\n",
       "      <td>0</td>\n",
       "      <td>3.0</td>\n",
       "      <td>3.0</td>\n",
       "      <td>1</td>\n",
       "      <td>0</td>\n",
       "      <td>3.0</td>\n",
       "      <td>0</td>\n",
       "      <td>3.0</td>\n",
       "      <td>0.0</td>\n",
       "      <td>1</td>\n",
       "      <td>1</td>\n",
       "      <td>0</td>\n",
       "    </tr>\n",
       "    <tr>\n",
       "      <th>2</th>\n",
       "      <td>0</td>\n",
       "      <td>23.0</td>\n",
       "      <td>1.80</td>\n",
       "      <td>77.0</td>\n",
       "      <td>1</td>\n",
       "      <td>0</td>\n",
       "      <td>2.0</td>\n",
       "      <td>3.0</td>\n",
       "      <td>1</td>\n",
       "      <td>1</td>\n",
       "      <td>2.0</td>\n",
       "      <td>1</td>\n",
       "      <td>2.0</td>\n",
       "      <td>1.0</td>\n",
       "      <td>2</td>\n",
       "      <td>1</td>\n",
       "      <td>0</td>\n",
       "    </tr>\n",
       "    <tr>\n",
       "      <th>3</th>\n",
       "      <td>0</td>\n",
       "      <td>27.0</td>\n",
       "      <td>1.80</td>\n",
       "      <td>87.0</td>\n",
       "      <td>0</td>\n",
       "      <td>0</td>\n",
       "      <td>3.0</td>\n",
       "      <td>3.0</td>\n",
       "      <td>1</td>\n",
       "      <td>1</td>\n",
       "      <td>2.0</td>\n",
       "      <td>1</td>\n",
       "      <td>2.0</td>\n",
       "      <td>0.0</td>\n",
       "      <td>2</td>\n",
       "      <td>2</td>\n",
       "      <td>1</td>\n",
       "    </tr>\n",
       "    <tr>\n",
       "      <th>4</th>\n",
       "      <td>0</td>\n",
       "      <td>22.0</td>\n",
       "      <td>1.78</td>\n",
       "      <td>89.8</td>\n",
       "      <td>0</td>\n",
       "      <td>0</td>\n",
       "      <td>2.0</td>\n",
       "      <td>1.0</td>\n",
       "      <td>1</td>\n",
       "      <td>1</td>\n",
       "      <td>2.0</td>\n",
       "      <td>1</td>\n",
       "      <td>0.0</td>\n",
       "      <td>0.0</td>\n",
       "      <td>1</td>\n",
       "      <td>1</td>\n",
       "      <td>1</td>\n",
       "    </tr>\n",
       "  </tbody>\n",
       "</table>\n",
       "</div>"
      ],
      "text/plain": [
       "   Gender   Age  Height  Weight  family_history  FAVC  FCVC  NCP  CAEC  SMOKE  \\\n",
       "0       1  21.0    1.62    64.0               1     0   2.0  3.0     1      1   \n",
       "1       1  21.0    1.52    56.0               1     0   3.0  3.0     1      0   \n",
       "2       0  23.0    1.80    77.0               1     0   2.0  3.0     1      1   \n",
       "3       0  27.0    1.80    87.0               0     0   3.0  3.0     1      1   \n",
       "4       0  22.0    1.78    89.8               0     0   2.0  1.0     1      1   \n",
       "\n",
       "   CH2O  SCC  FAF  TUE  CALC  MTRANS  NObeyesdad  \n",
       "0   2.0    1  0.0  1.0     0       1           0  \n",
       "1   3.0    0  3.0  0.0     1       1           0  \n",
       "2   2.0    1  2.0  1.0     2       1           0  \n",
       "3   2.0    1  2.0  0.0     2       2           1  \n",
       "4   2.0    1  0.0  0.0     1       1           1  "
      ]
     },
     "execution_count": 133,
     "metadata": {},
     "output_type": "execute_result"
    }
   ],
   "source": [
    "df['CAEC'] = df['CAEC'].apply(lambda x: ['no', 'Sometimes', 'Frequently', 'Always'].index(x))\n",
    "df['SMOKE'] = df['SMOKE'].apply(lambda x: ['yes', 'no'].index(x))\n",
    "df['SCC'] = df['SCC'].apply(lambda x: ['yes', 'no'].index(x))\n",
    "df['CALC'] = df['CALC'].apply(lambda x:['no', 'Sometimes', 'Frequently', 'Always'].index(x))\n",
    "df['Gender'] = df['Gender'].map({'Male' : 0, 'Female': 1})\n",
    "df['family_history'] = df['family_history'].map({'no' : 0, 'yes': 1})\n",
    "df['FAVC'] = df['FAVC'].map({'no' : 0, 'yes': 1})\n",
    "df['MTRANS'] = df['MTRANS'].map({'Public_Transportation': 1, 'Walking':2, 'Automobile':3, 'Motorbike':4, 'Bike':5})\n",
    "df.head()"
   ]
  },
  {
   "cell_type": "markdown",
   "id": "0bcdd931",
   "metadata": {},
   "source": [
    "4. Recognize the highly correlated or uncorrelated variables "
   ]
  },
  {
   "cell_type": "markdown",
   "id": "b7020c30",
   "metadata": {},
   "source": [
    "This is an important step that allows to identify the highly coorrelated or uncorelated variable that can be dropped."
   ]
  },
  {
   "cell_type": "code",
   "execution_count": 134,
   "id": "6dbdd3c1",
   "metadata": {
    "scrolled": false
   },
   "outputs": [
    {
     "data": {
      "text/html": [
       "<div>\n",
       "<style scoped>\n",
       "    .dataframe tbody tr th:only-of-type {\n",
       "        vertical-align: middle;\n",
       "    }\n",
       "\n",
       "    .dataframe tbody tr th {\n",
       "        vertical-align: top;\n",
       "    }\n",
       "\n",
       "    .dataframe thead th {\n",
       "        text-align: right;\n",
       "    }\n",
       "</style>\n",
       "<table border=\"1\" class=\"dataframe\">\n",
       "  <thead>\n",
       "    <tr style=\"text-align: right;\">\n",
       "      <th></th>\n",
       "      <th>Gender</th>\n",
       "      <th>Age</th>\n",
       "      <th>Height</th>\n",
       "      <th>Weight</th>\n",
       "      <th>family_history</th>\n",
       "      <th>FAVC</th>\n",
       "      <th>FCVC</th>\n",
       "      <th>NCP</th>\n",
       "      <th>CAEC</th>\n",
       "      <th>SMOKE</th>\n",
       "      <th>CH2O</th>\n",
       "      <th>SCC</th>\n",
       "      <th>FAF</th>\n",
       "      <th>TUE</th>\n",
       "      <th>CALC</th>\n",
       "      <th>MTRANS</th>\n",
       "      <th>NObeyesdad</th>\n",
       "    </tr>\n",
       "  </thead>\n",
       "  <tbody>\n",
       "    <tr>\n",
       "      <th>Gender</th>\n",
       "      <td>1.000000</td>\n",
       "      <td>-0.048394</td>\n",
       "      <td>-0.618466</td>\n",
       "      <td>-0.161668</td>\n",
       "      <td>-0.102512</td>\n",
       "      <td>-0.064934</td>\n",
       "      <td>0.274505</td>\n",
       "      <td>-0.067600</td>\n",
       "      <td>0.091543</td>\n",
       "      <td>0.044698</td>\n",
       "      <td>-0.107930</td>\n",
       "      <td>-0.102633</td>\n",
       "      <td>-0.189607</td>\n",
       "      <td>-0.017269</td>\n",
       "      <td>0.007616</td>\n",
       "      <td>-0.164116</td>\n",
       "      <td>-0.042359</td>\n",
       "    </tr>\n",
       "    <tr>\n",
       "      <th>Age</th>\n",
       "      <td>-0.048394</td>\n",
       "      <td>1.000000</td>\n",
       "      <td>-0.025958</td>\n",
       "      <td>0.202560</td>\n",
       "      <td>0.205725</td>\n",
       "      <td>0.063902</td>\n",
       "      <td>0.016291</td>\n",
       "      <td>-0.043944</td>\n",
       "      <td>-0.083739</td>\n",
       "      <td>-0.091987</td>\n",
       "      <td>-0.045304</td>\n",
       "      <td>0.116283</td>\n",
       "      <td>-0.144938</td>\n",
       "      <td>-0.296931</td>\n",
       "      <td>0.044487</td>\n",
       "      <td>0.567983</td>\n",
       "      <td>0.308309</td>\n",
       "    </tr>\n",
       "    <tr>\n",
       "      <th>Height</th>\n",
       "      <td>-0.618466</td>\n",
       "      <td>-0.025958</td>\n",
       "      <td>1.000000</td>\n",
       "      <td>0.463136</td>\n",
       "      <td>0.247684</td>\n",
       "      <td>0.178364</td>\n",
       "      <td>-0.038121</td>\n",
       "      <td>0.243672</td>\n",
       "      <td>-0.048818</td>\n",
       "      <td>-0.055499</td>\n",
       "      <td>0.213376</td>\n",
       "      <td>0.133753</td>\n",
       "      <td>0.294709</td>\n",
       "      <td>0.051912</td>\n",
       "      <td>0.129732</td>\n",
       "      <td>0.085768</td>\n",
       "      <td>0.144356</td>\n",
       "    </tr>\n",
       "    <tr>\n",
       "      <th>Weight</th>\n",
       "      <td>-0.161668</td>\n",
       "      <td>0.202560</td>\n",
       "      <td>0.463136</td>\n",
       "      <td>1.000000</td>\n",
       "      <td>0.496820</td>\n",
       "      <td>0.272300</td>\n",
       "      <td>0.216125</td>\n",
       "      <td>0.107469</td>\n",
       "      <td>-0.287493</td>\n",
       "      <td>-0.025746</td>\n",
       "      <td>0.200575</td>\n",
       "      <td>0.201906</td>\n",
       "      <td>-0.051436</td>\n",
       "      <td>-0.071561</td>\n",
       "      <td>0.206677</td>\n",
       "      <td>-0.046615</td>\n",
       "      <td>0.848079</td>\n",
       "    </tr>\n",
       "    <tr>\n",
       "      <th>family_history</th>\n",
       "      <td>-0.102512</td>\n",
       "      <td>0.205725</td>\n",
       "      <td>0.247684</td>\n",
       "      <td>0.496820</td>\n",
       "      <td>1.000000</td>\n",
       "      <td>0.208036</td>\n",
       "      <td>0.040372</td>\n",
       "      <td>0.071370</td>\n",
       "      <td>-0.169787</td>\n",
       "      <td>-0.017385</td>\n",
       "      <td>0.147437</td>\n",
       "      <td>0.185422</td>\n",
       "      <td>-0.056673</td>\n",
       "      <td>0.022943</td>\n",
       "      <td>-0.036676</td>\n",
       "      <td>0.065036</td>\n",
       "      <td>0.511098</td>\n",
       "    </tr>\n",
       "    <tr>\n",
       "      <th>FAVC</th>\n",
       "      <td>-0.064934</td>\n",
       "      <td>0.063902</td>\n",
       "      <td>0.178364</td>\n",
       "      <td>0.272300</td>\n",
       "      <td>0.208036</td>\n",
       "      <td>1.000000</td>\n",
       "      <td>-0.027283</td>\n",
       "      <td>-0.007000</td>\n",
       "      <td>-0.150068</td>\n",
       "      <td>0.050660</td>\n",
       "      <td>0.009719</td>\n",
       "      <td>0.190658</td>\n",
       "      <td>-0.107995</td>\n",
       "      <td>0.068417</td>\n",
       "      <td>0.089520</td>\n",
       "      <td>-0.009102</td>\n",
       "      <td>0.283598</td>\n",
       "    </tr>\n",
       "    <tr>\n",
       "      <th>FCVC</th>\n",
       "      <td>0.274505</td>\n",
       "      <td>0.016291</td>\n",
       "      <td>-0.038121</td>\n",
       "      <td>0.216125</td>\n",
       "      <td>0.040372</td>\n",
       "      <td>-0.027283</td>\n",
       "      <td>1.000000</td>\n",
       "      <td>0.042216</td>\n",
       "      <td>0.054670</td>\n",
       "      <td>-0.014320</td>\n",
       "      <td>0.068461</td>\n",
       "      <td>-0.071852</td>\n",
       "      <td>0.019939</td>\n",
       "      <td>-0.101135</td>\n",
       "      <td>0.060781</td>\n",
       "      <td>-0.065098</td>\n",
       "      <td>0.113146</td>\n",
       "    </tr>\n",
       "    <tr>\n",
       "      <th>NCP</th>\n",
       "      <td>-0.067600</td>\n",
       "      <td>-0.043944</td>\n",
       "      <td>0.243672</td>\n",
       "      <td>0.107469</td>\n",
       "      <td>0.071370</td>\n",
       "      <td>-0.007000</td>\n",
       "      <td>0.042216</td>\n",
       "      <td>1.000000</td>\n",
       "      <td>0.097801</td>\n",
       "      <td>-0.007811</td>\n",
       "      <td>0.057088</td>\n",
       "      <td>0.015624</td>\n",
       "      <td>0.129504</td>\n",
       "      <td>0.036326</td>\n",
       "      <td>0.071747</td>\n",
       "      <td>0.059022</td>\n",
       "      <td>-0.034655</td>\n",
       "    </tr>\n",
       "    <tr>\n",
       "      <th>CAEC</th>\n",
       "      <td>0.091543</td>\n",
       "      <td>-0.083739</td>\n",
       "      <td>-0.048818</td>\n",
       "      <td>-0.287493</td>\n",
       "      <td>-0.169787</td>\n",
       "      <td>-0.150068</td>\n",
       "      <td>0.054670</td>\n",
       "      <td>0.097801</td>\n",
       "      <td>1.000000</td>\n",
       "      <td>-0.055282</td>\n",
       "      <td>-0.144995</td>\n",
       "      <td>-0.109179</td>\n",
       "      <td>0.030110</td>\n",
       "      <td>0.048567</td>\n",
       "      <td>-0.047540</td>\n",
       "      <td>-0.003556</td>\n",
       "      <td>-0.367379</td>\n",
       "    </tr>\n",
       "    <tr>\n",
       "      <th>SMOKE</th>\n",
       "      <td>0.044698</td>\n",
       "      <td>-0.091987</td>\n",
       "      <td>-0.055499</td>\n",
       "      <td>-0.025746</td>\n",
       "      <td>-0.017385</td>\n",
       "      <td>0.050660</td>\n",
       "      <td>-0.014320</td>\n",
       "      <td>-0.007811</td>\n",
       "      <td>-0.055282</td>\n",
       "      <td>1.000000</td>\n",
       "      <td>0.031995</td>\n",
       "      <td>0.047731</td>\n",
       "      <td>-0.011216</td>\n",
       "      <td>-0.017613</td>\n",
       "      <td>-0.082471</td>\n",
       "      <td>-0.021045</td>\n",
       "      <td>0.002433</td>\n",
       "    </tr>\n",
       "    <tr>\n",
       "      <th>CH2O</th>\n",
       "      <td>-0.107930</td>\n",
       "      <td>-0.045304</td>\n",
       "      <td>0.213376</td>\n",
       "      <td>0.200575</td>\n",
       "      <td>0.147437</td>\n",
       "      <td>0.009719</td>\n",
       "      <td>0.068461</td>\n",
       "      <td>0.057088</td>\n",
       "      <td>-0.144995</td>\n",
       "      <td>0.031995</td>\n",
       "      <td>1.000000</td>\n",
       "      <td>-0.008036</td>\n",
       "      <td>0.167236</td>\n",
       "      <td>0.011965</td>\n",
       "      <td>0.091386</td>\n",
       "      <td>-0.035638</td>\n",
       "      <td>0.135521</td>\n",
       "    </tr>\n",
       "    <tr>\n",
       "      <th>SCC</th>\n",
       "      <td>-0.102633</td>\n",
       "      <td>0.116283</td>\n",
       "      <td>0.133753</td>\n",
       "      <td>0.201906</td>\n",
       "      <td>0.185422</td>\n",
       "      <td>0.190658</td>\n",
       "      <td>-0.071852</td>\n",
       "      <td>0.015624</td>\n",
       "      <td>-0.109179</td>\n",
       "      <td>0.047731</td>\n",
       "      <td>-0.008036</td>\n",
       "      <td>1.000000</td>\n",
       "      <td>-0.074221</td>\n",
       "      <td>0.010928</td>\n",
       "      <td>-0.003463</td>\n",
       "      <td>0.012794</td>\n",
       "      <td>0.185938</td>\n",
       "    </tr>\n",
       "    <tr>\n",
       "      <th>FAF</th>\n",
       "      <td>-0.189607</td>\n",
       "      <td>-0.144938</td>\n",
       "      <td>0.294709</td>\n",
       "      <td>-0.051436</td>\n",
       "      <td>-0.056673</td>\n",
       "      <td>-0.107995</td>\n",
       "      <td>0.019939</td>\n",
       "      <td>0.129504</td>\n",
       "      <td>0.030110</td>\n",
       "      <td>-0.011216</td>\n",
       "      <td>0.167236</td>\n",
       "      <td>-0.074221</td>\n",
       "      <td>1.000000</td>\n",
       "      <td>0.058562</td>\n",
       "      <td>-0.086799</td>\n",
       "      <td>0.036098</td>\n",
       "      <td>-0.178033</td>\n",
       "    </tr>\n",
       "    <tr>\n",
       "      <th>TUE</th>\n",
       "      <td>-0.017269</td>\n",
       "      <td>-0.296931</td>\n",
       "      <td>0.051912</td>\n",
       "      <td>-0.071561</td>\n",
       "      <td>0.022943</td>\n",
       "      <td>0.068417</td>\n",
       "      <td>-0.101135</td>\n",
       "      <td>0.036326</td>\n",
       "      <td>0.048567</td>\n",
       "      <td>-0.017613</td>\n",
       "      <td>0.011965</td>\n",
       "      <td>0.010928</td>\n",
       "      <td>0.058562</td>\n",
       "      <td>1.000000</td>\n",
       "      <td>-0.045864</td>\n",
       "      <td>-0.165571</td>\n",
       "      <td>-0.101004</td>\n",
       "    </tr>\n",
       "    <tr>\n",
       "      <th>CALC</th>\n",
       "      <td>0.007616</td>\n",
       "      <td>0.044487</td>\n",
       "      <td>0.129732</td>\n",
       "      <td>0.206677</td>\n",
       "      <td>-0.036676</td>\n",
       "      <td>0.089520</td>\n",
       "      <td>0.060781</td>\n",
       "      <td>0.071747</td>\n",
       "      <td>-0.047540</td>\n",
       "      <td>-0.082471</td>\n",
       "      <td>0.091386</td>\n",
       "      <td>-0.003463</td>\n",
       "      <td>-0.086799</td>\n",
       "      <td>-0.045864</td>\n",
       "      <td>1.000000</td>\n",
       "      <td>-0.025492</td>\n",
       "      <td>0.103055</td>\n",
       "    </tr>\n",
       "    <tr>\n",
       "      <th>MTRANS</th>\n",
       "      <td>-0.164116</td>\n",
       "      <td>0.567983</td>\n",
       "      <td>0.085768</td>\n",
       "      <td>-0.046615</td>\n",
       "      <td>0.065036</td>\n",
       "      <td>-0.009102</td>\n",
       "      <td>-0.065098</td>\n",
       "      <td>0.059022</td>\n",
       "      <td>-0.003556</td>\n",
       "      <td>-0.021045</td>\n",
       "      <td>-0.035638</td>\n",
       "      <td>0.012794</td>\n",
       "      <td>0.036098</td>\n",
       "      <td>-0.165571</td>\n",
       "      <td>-0.025492</td>\n",
       "      <td>1.000000</td>\n",
       "      <td>-0.018238</td>\n",
       "    </tr>\n",
       "    <tr>\n",
       "      <th>NObeyesdad</th>\n",
       "      <td>-0.042359</td>\n",
       "      <td>0.308309</td>\n",
       "      <td>0.144356</td>\n",
       "      <td>0.848079</td>\n",
       "      <td>0.511098</td>\n",
       "      <td>0.283598</td>\n",
       "      <td>0.113146</td>\n",
       "      <td>-0.034655</td>\n",
       "      <td>-0.367379</td>\n",
       "      <td>0.002433</td>\n",
       "      <td>0.135521</td>\n",
       "      <td>0.185938</td>\n",
       "      <td>-0.178033</td>\n",
       "      <td>-0.101004</td>\n",
       "      <td>0.103055</td>\n",
       "      <td>-0.018238</td>\n",
       "      <td>1.000000</td>\n",
       "    </tr>\n",
       "  </tbody>\n",
       "</table>\n",
       "</div>"
      ],
      "text/plain": [
       "                  Gender       Age    Height    Weight  family_history  \\\n",
       "Gender          1.000000 -0.048394 -0.618466 -0.161668       -0.102512   \n",
       "Age            -0.048394  1.000000 -0.025958  0.202560        0.205725   \n",
       "Height         -0.618466 -0.025958  1.000000  0.463136        0.247684   \n",
       "Weight         -0.161668  0.202560  0.463136  1.000000        0.496820   \n",
       "family_history -0.102512  0.205725  0.247684  0.496820        1.000000   \n",
       "FAVC           -0.064934  0.063902  0.178364  0.272300        0.208036   \n",
       "FCVC            0.274505  0.016291 -0.038121  0.216125        0.040372   \n",
       "NCP            -0.067600 -0.043944  0.243672  0.107469        0.071370   \n",
       "CAEC            0.091543 -0.083739 -0.048818 -0.287493       -0.169787   \n",
       "SMOKE           0.044698 -0.091987 -0.055499 -0.025746       -0.017385   \n",
       "CH2O           -0.107930 -0.045304  0.213376  0.200575        0.147437   \n",
       "SCC            -0.102633  0.116283  0.133753  0.201906        0.185422   \n",
       "FAF            -0.189607 -0.144938  0.294709 -0.051436       -0.056673   \n",
       "TUE            -0.017269 -0.296931  0.051912 -0.071561        0.022943   \n",
       "CALC            0.007616  0.044487  0.129732  0.206677       -0.036676   \n",
       "MTRANS         -0.164116  0.567983  0.085768 -0.046615        0.065036   \n",
       "NObeyesdad     -0.042359  0.308309  0.144356  0.848079        0.511098   \n",
       "\n",
       "                    FAVC      FCVC       NCP      CAEC     SMOKE      CH2O  \\\n",
       "Gender         -0.064934  0.274505 -0.067600  0.091543  0.044698 -0.107930   \n",
       "Age             0.063902  0.016291 -0.043944 -0.083739 -0.091987 -0.045304   \n",
       "Height          0.178364 -0.038121  0.243672 -0.048818 -0.055499  0.213376   \n",
       "Weight          0.272300  0.216125  0.107469 -0.287493 -0.025746  0.200575   \n",
       "family_history  0.208036  0.040372  0.071370 -0.169787 -0.017385  0.147437   \n",
       "FAVC            1.000000 -0.027283 -0.007000 -0.150068  0.050660  0.009719   \n",
       "FCVC           -0.027283  1.000000  0.042216  0.054670 -0.014320  0.068461   \n",
       "NCP            -0.007000  0.042216  1.000000  0.097801 -0.007811  0.057088   \n",
       "CAEC           -0.150068  0.054670  0.097801  1.000000 -0.055282 -0.144995   \n",
       "SMOKE           0.050660 -0.014320 -0.007811 -0.055282  1.000000  0.031995   \n",
       "CH2O            0.009719  0.068461  0.057088 -0.144995  0.031995  1.000000   \n",
       "SCC             0.190658 -0.071852  0.015624 -0.109179  0.047731 -0.008036   \n",
       "FAF            -0.107995  0.019939  0.129504  0.030110 -0.011216  0.167236   \n",
       "TUE             0.068417 -0.101135  0.036326  0.048567 -0.017613  0.011965   \n",
       "CALC            0.089520  0.060781  0.071747 -0.047540 -0.082471  0.091386   \n",
       "MTRANS         -0.009102 -0.065098  0.059022 -0.003556 -0.021045 -0.035638   \n",
       "NObeyesdad      0.283598  0.113146 -0.034655 -0.367379  0.002433  0.135521   \n",
       "\n",
       "                     SCC       FAF       TUE      CALC    MTRANS  NObeyesdad  \n",
       "Gender         -0.102633 -0.189607 -0.017269  0.007616 -0.164116   -0.042359  \n",
       "Age             0.116283 -0.144938 -0.296931  0.044487  0.567983    0.308309  \n",
       "Height          0.133753  0.294709  0.051912  0.129732  0.085768    0.144356  \n",
       "Weight          0.201906 -0.051436 -0.071561  0.206677 -0.046615    0.848079  \n",
       "family_history  0.185422 -0.056673  0.022943 -0.036676  0.065036    0.511098  \n",
       "FAVC            0.190658 -0.107995  0.068417  0.089520 -0.009102    0.283598  \n",
       "FCVC           -0.071852  0.019939 -0.101135  0.060781 -0.065098    0.113146  \n",
       "NCP             0.015624  0.129504  0.036326  0.071747  0.059022   -0.034655  \n",
       "CAEC           -0.109179  0.030110  0.048567 -0.047540 -0.003556   -0.367379  \n",
       "SMOKE           0.047731 -0.011216 -0.017613 -0.082471 -0.021045    0.002433  \n",
       "CH2O           -0.008036  0.167236  0.011965  0.091386 -0.035638    0.135521  \n",
       "SCC             1.000000 -0.074221  0.010928 -0.003463  0.012794    0.185938  \n",
       "FAF            -0.074221  1.000000  0.058562 -0.086799  0.036098   -0.178033  \n",
       "TUE             0.010928  0.058562  1.000000 -0.045864 -0.165571   -0.101004  \n",
       "CALC           -0.003463 -0.086799 -0.045864  1.000000 -0.025492    0.103055  \n",
       "MTRANS          0.012794  0.036098 -0.165571 -0.025492  1.000000   -0.018238  \n",
       "NObeyesdad      0.185938 -0.178033 -0.101004  0.103055 -0.018238    1.000000  "
      ]
     },
     "execution_count": 134,
     "metadata": {},
     "output_type": "execute_result"
    }
   ],
   "source": [
    "#Correlation matrix\n",
    "df.corr()\n"
   ]
  },
  {
   "cell_type": "code",
   "execution_count": 135,
   "id": "9d11a9bf",
   "metadata": {},
   "outputs": [
    {
     "data": {
      "text/plain": [
       "<AxesSubplot:>"
      ]
     },
     "execution_count": 135,
     "metadata": {},
     "output_type": "execute_result"
    },
    {
     "data": {
      "image/png": "[encoded data removed]",
      "text/plain": [
       "<Figure size 1080x720 with 2 Axes>"
      ]
     },
     "metadata": {},
     "output_type": "display_data"
    }
   ],
   "source": [
    "#Correlation heatmap\n",
    "plt.figure(figsize=(15,10))\n",
    "sns.heatmap(df.corr(), annot = True)"
   ]
  },
  {
   "cell_type": "code",
   "execution_count": 136,
   "id": "ccf561ff",
   "metadata": {},
   "outputs": [],
   "source": [
    "#Drop the weight variable\n",
    "df.drop(['Weight'],axis = 1, inplace = True)"
   ]
  },
  {
   "cell_type": "markdown",
   "id": "b24911bf",
   "metadata": {},
   "source": [
    "5. Get the overview of the dataset and describe it."
   ]
  },
  {
   "cell_type": "code",
   "execution_count": 137,
   "id": "b6676100",
   "metadata": {},
   "outputs": [
    {
     "name": "stdout",
     "output_type": "stream",
     "text": [
      "Index(['Gender', 'Age', 'Height', 'family_history', 'FAVC', 'FCVC', 'NCP',\n",
      "       'CAEC', 'SMOKE', 'CH2O', 'SCC', 'FAF', 'TUE', 'CALC', 'MTRANS',\n",
      "       'NObeyesdad'],\n",
      "      dtype='object') \n",
      "\n",
      "(2111, 16) \n",
      "\n",
      "<class 'pandas.core.frame.DataFrame'>\n",
      "RangeIndex: 2111 entries, 0 to 2110\n",
      "Data columns (total 16 columns):\n",
      " #   Column          Non-Null Count  Dtype  \n",
      "---  ------          --------------  -----  \n",
      " 0   Gender          2111 non-null   int64  \n",
      " 1   Age             2111 non-null   float64\n",
      " 2   Height          2111 non-null   float64\n",
      " 3   family_history  2111 non-null   int64  \n",
      " 4   FAVC            2111 non-null   int64  \n",
      " 5   FCVC            2111 non-null   float64\n",
      " 6   NCP             2111 non-null   float64\n",
      " 7   CAEC            2111 non-null   int64  \n",
      " 8   SMOKE           2111 non-null   int64  \n",
      " 9   CH2O            2111 non-null   float64\n",
      " 10  SCC             2111 non-null   int64  \n",
      " 11  FAF             2111 non-null   float64\n",
      " 12  TUE             2111 non-null   float64\n",
      " 13  CALC            2111 non-null   int64  \n",
      " 14  MTRANS          2111 non-null   int64  \n",
      " 15  NObeyesdad      2111 non-null   int64  \n",
      "dtypes: float64(7), int64(9)\n",
      "memory usage: 264.0 KB\n"
     ]
    },
    {
     "data": {
      "text/html": [
       "<div>\n",
       "<style scoped>\n",
       "    .dataframe tbody tr th:only-of-type {\n",
       "        vertical-align: middle;\n",
       "    }\n",
       "\n",
       "    .dataframe tbody tr th {\n",
       "        vertical-align: top;\n",
       "    }\n",
       "\n",
       "    .dataframe thead th {\n",
       "        text-align: right;\n",
       "    }\n",
       "</style>\n",
       "<table border=\"1\" class=\"dataframe\">\n",
       "  <thead>\n",
       "    <tr style=\"text-align: right;\">\n",
       "      <th></th>\n",
       "      <th>Gender</th>\n",
       "      <th>Age</th>\n",
       "      <th>Height</th>\n",
       "      <th>family_history</th>\n",
       "      <th>FAVC</th>\n",
       "      <th>FCVC</th>\n",
       "      <th>NCP</th>\n",
       "      <th>CAEC</th>\n",
       "      <th>SMOKE</th>\n",
       "      <th>CH2O</th>\n",
       "      <th>SCC</th>\n",
       "      <th>FAF</th>\n",
       "      <th>TUE</th>\n",
       "      <th>CALC</th>\n",
       "      <th>MTRANS</th>\n",
       "      <th>NObeyesdad</th>\n",
       "    </tr>\n",
       "  </thead>\n",
       "  <tbody>\n",
       "    <tr>\n",
       "      <th>count</th>\n",
       "      <td>2111.000000</td>\n",
       "      <td>2111.000000</td>\n",
       "      <td>2111.000000</td>\n",
       "      <td>2111.000000</td>\n",
       "      <td>2111.000000</td>\n",
       "      <td>2111.000000</td>\n",
       "      <td>2111.000000</td>\n",
       "      <td>2111.000000</td>\n",
       "      <td>2111.000000</td>\n",
       "      <td>2111.000000</td>\n",
       "      <td>2111.000000</td>\n",
       "      <td>2111.000000</td>\n",
       "      <td>2111.000000</td>\n",
       "      <td>2111.000000</td>\n",
       "      <td>2111.000000</td>\n",
       "      <td>2111.000000</td>\n",
       "    </tr>\n",
       "    <tr>\n",
       "      <th>mean</th>\n",
       "      <td>0.494079</td>\n",
       "      <td>24.312600</td>\n",
       "      <td>1.701677</td>\n",
       "      <td>0.817622</td>\n",
       "      <td>0.883941</td>\n",
       "      <td>2.419043</td>\n",
       "      <td>2.685628</td>\n",
       "      <td>1.140692</td>\n",
       "      <td>0.979157</td>\n",
       "      <td>2.008011</td>\n",
       "      <td>0.954524</td>\n",
       "      <td>1.010298</td>\n",
       "      <td>0.657866</td>\n",
       "      <td>0.731407</td>\n",
       "      <td>1.488394</td>\n",
       "      <td>1.195642</td>\n",
       "    </tr>\n",
       "    <tr>\n",
       "      <th>std</th>\n",
       "      <td>0.500083</td>\n",
       "      <td>6.345968</td>\n",
       "      <td>0.093305</td>\n",
       "      <td>0.386247</td>\n",
       "      <td>0.320371</td>\n",
       "      <td>0.533927</td>\n",
       "      <td>0.778039</td>\n",
       "      <td>0.468543</td>\n",
       "      <td>0.142893</td>\n",
       "      <td>0.612953</td>\n",
       "      <td>0.208395</td>\n",
       "      <td>0.850592</td>\n",
       "      <td>0.608927</td>\n",
       "      <td>0.515498</td>\n",
       "      <td>0.868475</td>\n",
       "      <td>0.829035</td>\n",
       "    </tr>\n",
       "    <tr>\n",
       "      <th>min</th>\n",
       "      <td>0.000000</td>\n",
       "      <td>14.000000</td>\n",
       "      <td>1.450000</td>\n",
       "      <td>0.000000</td>\n",
       "      <td>0.000000</td>\n",
       "      <td>1.000000</td>\n",
       "      <td>1.000000</td>\n",
       "      <td>0.000000</td>\n",
       "      <td>0.000000</td>\n",
       "      <td>1.000000</td>\n",
       "      <td>0.000000</td>\n",
       "      <td>0.000000</td>\n",
       "      <td>0.000000</td>\n",
       "      <td>0.000000</td>\n",
       "      <td>1.000000</td>\n",
       "      <td>0.000000</td>\n",
       "    </tr>\n",
       "    <tr>\n",
       "      <th>25%</th>\n",
       "      <td>0.000000</td>\n",
       "      <td>19.947192</td>\n",
       "      <td>1.630000</td>\n",
       "      <td>1.000000</td>\n",
       "      <td>1.000000</td>\n",
       "      <td>2.000000</td>\n",
       "      <td>2.658738</td>\n",
       "      <td>1.000000</td>\n",
       "      <td>1.000000</td>\n",
       "      <td>1.584812</td>\n",
       "      <td>1.000000</td>\n",
       "      <td>0.124505</td>\n",
       "      <td>0.000000</td>\n",
       "      <td>0.000000</td>\n",
       "      <td>1.000000</td>\n",
       "      <td>0.000000</td>\n",
       "    </tr>\n",
       "    <tr>\n",
       "      <th>50%</th>\n",
       "      <td>0.000000</td>\n",
       "      <td>22.777890</td>\n",
       "      <td>1.700499</td>\n",
       "      <td>1.000000</td>\n",
       "      <td>1.000000</td>\n",
       "      <td>2.385502</td>\n",
       "      <td>3.000000</td>\n",
       "      <td>1.000000</td>\n",
       "      <td>1.000000</td>\n",
       "      <td>2.000000</td>\n",
       "      <td>1.000000</td>\n",
       "      <td>1.000000</td>\n",
       "      <td>0.625350</td>\n",
       "      <td>1.000000</td>\n",
       "      <td>1.000000</td>\n",
       "      <td>1.000000</td>\n",
       "    </tr>\n",
       "    <tr>\n",
       "      <th>75%</th>\n",
       "      <td>1.000000</td>\n",
       "      <td>26.000000</td>\n",
       "      <td>1.768464</td>\n",
       "      <td>1.000000</td>\n",
       "      <td>1.000000</td>\n",
       "      <td>3.000000</td>\n",
       "      <td>3.000000</td>\n",
       "      <td>1.000000</td>\n",
       "      <td>1.000000</td>\n",
       "      <td>2.477420</td>\n",
       "      <td>1.000000</td>\n",
       "      <td>1.666678</td>\n",
       "      <td>1.000000</td>\n",
       "      <td>1.000000</td>\n",
       "      <td>2.000000</td>\n",
       "      <td>2.000000</td>\n",
       "    </tr>\n",
       "    <tr>\n",
       "      <th>max</th>\n",
       "      <td>1.000000</td>\n",
       "      <td>61.000000</td>\n",
       "      <td>1.980000</td>\n",
       "      <td>1.000000</td>\n",
       "      <td>1.000000</td>\n",
       "      <td>3.000000</td>\n",
       "      <td>4.000000</td>\n",
       "      <td>3.000000</td>\n",
       "      <td>1.000000</td>\n",
       "      <td>3.000000</td>\n",
       "      <td>1.000000</td>\n",
       "      <td>3.000000</td>\n",
       "      <td>2.000000</td>\n",
       "      <td>3.000000</td>\n",
       "      <td>5.000000</td>\n",
       "      <td>2.000000</td>\n",
       "    </tr>\n",
       "  </tbody>\n",
       "</table>\n",
       "</div>"
      ],
      "text/plain": [
       "            Gender          Age       Height  family_history         FAVC  \\\n",
       "count  2111.000000  2111.000000  2111.000000     2111.000000  2111.000000   \n",
       "mean      0.494079    24.312600     1.701677        0.817622     0.883941   \n",
       "std       0.500083     6.345968     0.093305        0.386247     0.320371   \n",
       "min       0.000000    14.000000     1.450000        0.000000     0.000000   \n",
       "25%       0.000000    19.947192     1.630000        1.000000     1.000000   \n",
       "50%       0.000000    22.777890     1.700499        1.000000     1.000000   \n",
       "75%       1.000000    26.000000     1.768464        1.000000     1.000000   \n",
       "max       1.000000    61.000000     1.980000        1.000000     1.000000   \n",
       "\n",
       "              FCVC          NCP         CAEC        SMOKE         CH2O  \\\n",
       "count  2111.000000  2111.000000  2111.000000  2111.000000  2111.000000   \n",
       "mean      2.419043     2.685628     1.140692     0.979157     2.008011   \n",
       "std       0.533927     0.778039     0.468543     0.142893     0.612953   \n",
       "min       1.000000     1.000000     0.000000     0.000000     1.000000   \n",
       "25%       2.000000     2.658738     1.000000     1.000000     1.584812   \n",
       "50%       2.385502     3.000000     1.000000     1.000000     2.000000   \n",
       "75%       3.000000     3.000000     1.000000     1.000000     2.477420   \n",
       "max       3.000000     4.000000     3.000000     1.000000     3.000000   \n",
       "\n",
       "               SCC          FAF          TUE         CALC       MTRANS  \\\n",
       "count  2111.000000  2111.000000  2111.000000  2111.000000  2111.000000   \n",
       "mean      0.954524     1.010298     0.657866     0.731407     1.488394   \n",
       "std       0.208395     0.850592     0.608927     0.515498     0.868475   \n",
       "min       0.000000     0.000000     0.000000     0.000000     1.000000   \n",
       "25%       1.000000     0.124505     0.000000     0.000000     1.000000   \n",
       "50%       1.000000     1.000000     0.625350     1.000000     1.000000   \n",
       "75%       1.000000     1.666678     1.000000     1.000000     2.000000   \n",
       "max       1.000000     3.000000     2.000000     3.000000     5.000000   \n",
       "\n",
       "        NObeyesdad  \n",
       "count  2111.000000  \n",
       "mean      1.195642  \n",
       "std       0.829035  \n",
       "min       0.000000  \n",
       "25%       0.000000  \n",
       "50%       1.000000  \n",
       "75%       2.000000  \n",
       "max       2.000000  "
      ]
     },
     "execution_count": 137,
     "metadata": {},
     "output_type": "execute_result"
    }
   ],
   "source": [
    "#Return columns\n",
    "print(df.keys(), \"\\n\")\n",
    "\n",
    "#Return array dimensions\n",
    "print(df.shape, \"\\n\")\n",
    "\n",
    "#Dataframe summary\n",
    "df.info()\n",
    "\n",
    "#Summarize  central tendency, dispersion, and shape of a dataset’s distribution\n",
    "df.describe()"
   ]
  },
  {
   "cell_type": "markdown",
   "id": "0e82e904",
   "metadata": {},
   "source": [
    "6. Normalise the data"
   ]
  },
  {
   "cell_type": "code",
   "execution_count": 138,
   "id": "37f866cc",
   "metadata": {},
   "outputs": [
    {
     "name": "stdout",
     "output_type": "stream",
     "text": [
      "   Gender       Age    Height  family_history  FAVC  FCVC       NCP      CAEC  \\\n",
      "0     1.0  0.148936  0.320755             1.0   0.0   0.5  0.666667  0.333333   \n",
      "1     1.0  0.148936  0.132075             1.0   0.0   1.0  0.666667  0.333333   \n",
      "2     0.0  0.191489  0.660377             1.0   0.0   0.5  0.666667  0.333333   \n",
      "3     0.0  0.276596  0.660377             0.0   0.0   1.0  0.666667  0.333333   \n",
      "4     0.0  0.170213  0.622642             0.0   0.0   0.5  0.000000  0.333333   \n",
      "\n",
      "   SMOKE  CH2O  SCC       FAF  TUE      CALC  MTRANS  NObeyesdad  \n",
      "0    1.0   0.5  1.0  0.000000  0.5  0.000000    0.00         0.0  \n",
      "1    0.0   1.0  0.0  1.000000  0.0  0.333333    0.00         0.0  \n",
      "2    1.0   0.5  1.0  0.666667  0.5  0.666667    0.00         0.0  \n",
      "3    1.0   0.5  1.0  0.666667  0.0  0.666667    0.25         0.5  \n",
      "4    1.0   0.5  1.0  0.000000  0.0  0.333333    0.00         0.5  \n"
     ]
    }
   ],
   "source": [
    "#Normalize the data\n",
    "scaler = MinMaxScaler(feature_range=(0, 1))\n",
    "normalizedData = scaler.fit_transform(df)\n",
    "cols = ['Gender', 'Age', 'Height', 'family_history', 'FAVC', 'FCVC', 'NCP', 'CAEC', 'SMOKE', 'CH2O', 'SCC', 'FAF', 'TUE', 'CALC', 'MTRANS', 'NObeyesdad']\n",
    "normalizedData = pd.DataFrame(normalizedData, columns=cols)\n",
    "print(normalizedData.head())"
   ]
  },
  {
   "cell_type": "markdown",
   "id": "f40ee7ee",
   "metadata": {},
   "source": [
    "7. Split the data into training and testing sets."
   ]
  },
  {
   "cell_type": "code",
   "execution_count": 139,
   "id": "7e91acc6",
   "metadata": {},
   "outputs": [
    {
     "name": "stdout",
     "output_type": "stream",
     "text": [
      "(2111, 16)\n",
      "(2111, 15)\n",
      "(2111,)\n",
      "(1477, 15)\n",
      "(634, 15)\n",
      "(1477,)\n",
      "(634,)\n"
     ]
    }
   ],
   "source": [
    "#Store the feature and target variable \n",
    "X = df.iloc[:, :-1]\n",
    "y = df.iloc[:, -1]\n",
    "\n",
    "# X represents all the features in df, except for the last column, \n",
    "# y represents only the last column of df, which is the target variable.\n",
    "\n",
    "print(df.shape)\n",
    "print(X.shape)\n",
    "print(y.shape)\n",
    "\n",
    "#Partition the data into training and test sets (70/30)\n",
    "X_train, X_test, y_train, y_test = train_test_split(X,y,test_size=0.30,random_state=42)\n",
    "\n",
    "print(X_train.shape)\n",
    "print(X_test.shape)\n",
    "print(y_train.shape)\n",
    "print(y_test.shape)"
   ]
  },
  {
   "cell_type": "code",
   "execution_count": 140,
   "id": "989a9657",
   "metadata": {},
   "outputs": [
    {
     "data": {
      "text/plain": [
       "<Figure size 576x360 with 0 Axes>"
      ]
     },
     "metadata": {},
     "output_type": "display_data"
    },
    {
     "data": {
      "image/png": "[encoded data removed]",
      "text/plain": [
       "<Figure size 576x396 with 1 Axes>"
      ]
     },
     "metadata": {},
     "output_type": "display_data"
    },
    {
     "data": {
      "text/plain": [
       "<Figure size 576x360 with 0 Axes>"
      ]
     },
     "metadata": {},
     "output_type": "display_data"
    },
    {
     "data": {
      "image/png": "[encoded data removed]",
      "text/plain": [
       "<Figure size 576x396 with 1 Axes>"
      ]
     },
     "metadata": {},
     "output_type": "display_data"
    }
   ],
   "source": [
    "#checking the distribution of independent variables\n",
    "from statsmodels.graphics.gofplots import qqplot\n",
    "df_norm=df[['Age','Height']]\n",
    "\n",
    "for c in df_norm.columns[:]:\n",
    "  plt.figure(figsize=(8,5))\n",
    "  fig=qqplot(df_norm[c],line='45',fit='True')\n",
    "  plt.xticks(fontsize=13)\n",
    "  plt.yticks(fontsize=13)\n",
    "  plt.xlabel(\"Theoretical quantiles\",fontsize=15)\n",
    "  plt.ylabel(\"Sample quantiles\",fontsize=15)\n",
    "  plt.title(\"Q-Q plot of {}\".format(c),fontsize=16)\n",
    "  plt.grid(True)\n",
    "  plt.show()"
   ]
  },
  {
   "cell_type": "code",
   "execution_count": 141,
   "id": "c35a2823",
   "metadata": {},
   "outputs": [
    {
     "data": {
      "text/plain": [
       "<AxesSubplot:ylabel='Frequency'>"
      ]
     },
     "execution_count": 141,
     "metadata": {},
     "output_type": "execute_result"
    },
    {
     "data": {
      "image/png": "[encoded data removed]",
      "text/plain": [
       "<Figure size 576x396 with 1 Axes>"
      ]
     },
     "metadata": {},
     "output_type": "display_data"
    }
   ],
   "source": [
    "df[\"Height\"].plot(kind = 'hist')"
   ]
  },
  {
   "cell_type": "code",
   "execution_count": 142,
   "id": "c380022f",
   "metadata": {},
   "outputs": [
    {
     "data": {
      "text/plain": [
       "<AxesSubplot:ylabel='Frequency'>"
      ]
     },
     "execution_count": 142,
     "metadata": {},
     "output_type": "execute_result"
    },
    {
     "data": {
      "image/png": "[encoded data removed]",
      "text/plain": [
       "<Figure size 576x396 with 1 Axes>"
      ]
     },
     "metadata": {},
     "output_type": "display_data"
    }
   ],
   "source": [
    "df[\"Age\"].plot(kind = 'hist')"
   ]
  },
  {
   "cell_type": "markdown",
   "id": "53091f58",
   "metadata": {},
   "source": [
    "# Baseline classification accuracy"
   ]
  },
  {
   "cell_type": "code",
   "execution_count": 143,
   "id": "1bb3d9f2",
   "metadata": {},
   "outputs": [
    {
     "name": "stdout",
     "output_type": "stream",
     "text": [
      "Baseline Accuracy =  0.45425867507886436\n"
     ]
    }
   ],
   "source": [
    "# Compute the baseline classification accuracy for X_train\n",
    "dummy_classifier = DummyClassifier(strategy='most_frequent')\n",
    "dummy_classifier.fit(X_train,y_train)\n",
    "baseline_acc = dummy_classifier.score(X_test,y_test)\n",
    "print(\"Baseline Accuracy = \", baseline_acc)"
   ]
  },
  {
   "cell_type": "markdown",
   "id": "6c3ff0ae",
   "metadata": {},
   "source": [
    "# Select the appropriate predictive model"
   ]
  },
  {
   "cell_type": "markdown",
   "id": "e966be06",
   "metadata": {},
   "source": [
    "I selected the following models:\n",
    "\n",
    "    1. Random Forest \n",
    "    2. Logistic Regression\n",
    "    3. SGBoost\n",
    "    4. Decision Tree\n",
    "    5. K Nearest Neighbout (KNN)\n",
    "\n",
    "I used the training data to train the selected model. This also involved fitting the model to the training data.\n",
    "Then I used the test data to evaluate the performance of the model. \n",
    "This includes measuring the model's accuracy, precision, recall and F1 score. I also performed cross-validation to evaluate the performance of a model as it helps to :\n",
    "1. reduce the variance in the estimate of the model's performance by using multiple test sets, \n",
    "2. provide a more reliable estimate of the model's performance because it uses all the available data for training and testing\n",
    "3. help to identify any problems with the model by comparing the performance on the training and test sets and \n",
    "4. improve the reliability and generalizability of the model.\n",
    "\n",
    "The findings are given below:"
   ]
  },
  {
   "cell_type": "markdown",
   "id": "6fdcd3f1",
   "metadata": {},
   "source": [
    "### 1: Random Forest"
   ]
  },
  {
   "cell_type": "code",
   "execution_count": 144,
   "id": "90c06370",
   "metadata": {},
   "outputs": [
    {
     "name": "stdout",
     "output_type": "stream",
     "text": [
      "Accuracy: 0.8991\n",
      "Precision: 0.9014\n",
      "Recall: 0.8991\n",
      "F1 score: 0.8990\n"
     ]
    }
   ],
   "source": [
    "# Create a Random Forest classifier with default parameters\n",
    "\n",
    "model_rf = RandomForestClassifier(random_state=42)\n",
    "\n",
    "# Fit the classifier to the training data\n",
    "model_rf.fit(X_train, y_train)\n",
    "\n",
    "# Make predictions on the testing data\n",
    "y_pred = model_rf.predict(X_test)\n",
    "\n",
    "# Calculate the accuracy, precision, recall and F1 of the classifier\n",
    "accuracy_rf = accuracy_score(y_test, y_pred)\n",
    "precision_rf = precision_score(y_test, y_pred, average='weighted')\n",
    "recall_rf = recall_score(y_test, y_pred, average='weighted')\n",
    "f1_rf= f1_score(y_test, y_pred, average='weighted')\n",
    "\n",
    "print(\"Accuracy: {:.4f}\".format(accuracy_rf))\n",
    "print(\"Precision: {:.4f}\".format(precision_rf))\n",
    "print(\"Recall: {:.4f}\".format(recall_rf))\n",
    "print(\"F1 score: {:.4f}\".format(f1_rf))"
   ]
  },
  {
   "cell_type": "code",
   "execution_count": 199,
   "id": "037120e7",
   "metadata": {},
   "outputs": [
    {
     "name": "stdout",
     "output_type": "stream",
     "text": [
      "Cross-validation scores: [0.89150943 0.90521327 0.90047393 0.93364929 0.90995261 0.88625592\n",
      " 0.91469194 0.86255924 0.91943128 0.93838863]\n",
      "Mean: 0.9062125547706341\n"
     ]
    }
   ],
   "source": [
    "# Perform cross Validation \n",
    "\n",
    "# Set up KFold cross-validation\n",
    "kfold = KFold(n_splits=10, shuffle=True, random_state=42)\n",
    "\n",
    "# Perform 10-fold cross-validation\n",
    "rf_cv = cross_val_score(model_rf, X, y, scoring='accuracy', cv=kfold)\n",
    "rf_cv\n",
    "\n",
    "# Print the cross-validation scores\n",
    "print(\"Cross-validation scores:\", rf_cv)\n",
    "\n",
    "# Print mean cross-validation score\n",
    "print(\"Mean:\", np.mean(rf_cv))"
   ]
  },
  {
   "cell_type": "code",
   "execution_count": 146,
   "id": "ed1d0239",
   "metadata": {},
   "outputs": [
    {
     "data": {
      "image/png": "[encoded data removed]",
      "text/plain": [
       "<Figure size 576x396 with 1 Axes>"
      ]
     },
     "metadata": {},
     "output_type": "display_data"
    }
   ],
   "source": [
    "# Importance rankings\n",
    "model_rf = RandomForestClassifier(random_state=42)\n",
    "model_rf.fit(X_train, y_train)\n",
    "\n",
    "# Get feature importances\n",
    "importances = pd.DataFrame(data={\n",
    "   'Attribute': X_test.columns,\n",
    "   'Importance': model_rf.feature_importances_\n",
    "})\n",
    "\n",
    "# Sort feature importances in descending order\n",
    "importances = importances.sort_values(by='Importance', ascending=False)\n",
    "\n",
    "# Create plot\n",
    "plt.figure()\n",
    "\n",
    "# Add bars\n",
    "plt.bar(x=importances['Attribute'], height=importances['Importance'], color='#087E8B')\n",
    "\n",
    "# Create plot title\n",
    "plt.title('Feature importances obtained from coefficients', size=20)\n",
    "\n",
    "# Add feature names as x-axis labels\n",
    "plt.xticks(rotation='vertical')\n",
    "\n",
    "# Show plot\n",
    "plt.show()"
   ]
  },
  {
   "cell_type": "markdown",
   "id": "6248f6ec",
   "metadata": {},
   "source": [
    "### 2: Logistic regression"
   ]
  },
  {
   "cell_type": "code",
   "execution_count": 147,
   "id": "21245ace",
   "metadata": {},
   "outputs": [
    {
     "name": "stdout",
     "output_type": "stream",
     "text": [
      "Accuracy: 0.7066\n",
      "Precision: 0.6903\n",
      "Recall: 0.7066\n",
      "F1 score: 0.6815\n"
     ]
    }
   ],
   "source": [
    "# Create a Logistic Regression classifier with default parameters\n",
    "model_lr = LogisticRegression(random_state=42)\n",
    "\n",
    "# Fit the classifier to the training data\n",
    "model_lr.fit(X_train, y_train)\n",
    "\n",
    "# Make predictions on the testing data\n",
    "y_pred = model_lr.predict(X_test)\n",
    "\n",
    "# Calculate the accuracy, precision, recall and F1 of the classifier\n",
    "accuracy_lr= accuracy_score(y_test, y_pred)\n",
    "precision_lr = precision_score(y_test, y_pred, average='weighted')\n",
    "recall_lr = recall_score(y_test, y_pred, average='weighted')\n",
    "f1_lr= f1_score(y_test, y_pred, average='weighted')\n",
    "\n",
    "print(\"Accuracy: {:.4f}\".format(accuracy_lr))\n",
    "print(\"Precision: {:.4f}\".format(precision_lr))\n",
    "print(\"Recall: {:.4f}\".format(recall_lr))\n",
    "print(\"F1 score: {:.4f}\".format(f1_lr))"
   ]
  },
  {
   "cell_type": "code",
   "execution_count": 200,
   "id": "1b8466f9",
   "metadata": {},
   "outputs": [
    {
     "name": "stdout",
     "output_type": "stream",
     "text": [
      "Cross validation scores:  [0.70754717 0.70616114 0.69194313 0.66824645 0.66350711 0.7014218\n",
      " 0.63507109 0.68246445 0.68720379 0.72037915]\n",
      "Mean:  0.6863945274076724\n"
     ]
    }
   ],
   "source": [
    "# Perform cross Validation \n",
    "\n",
    "# Set up KFold cross-validation\n",
    "kfold = KFold(n_splits=10, shuffle=True, random_state=42)\n",
    "\n",
    "# Perform 10-fold cross validation\n",
    "lr_cv = cross_val_score(model_lr, X, y, scoring='accuracy', cv=kfold)\n",
    "lr_cv\n",
    "\n",
    "# Print the cross-validation scores\n",
    "print (\"Cross validation scores: \",lr_cv)\n",
    "\n",
    "# Print mean cross-validation score\n",
    "print(\"Mean: \", np.mean(lr_cv))"
   ]
  },
  {
   "cell_type": "code",
   "execution_count": 149,
   "id": "4ad26f20",
   "metadata": {},
   "outputs": [
    {
     "data": {
      "image/png": "[encoded data removed]",
      "text/plain": [
       "<Figure size 576x396 with 1 Axes>"
      ]
     },
     "metadata": {},
     "output_type": "display_data"
    }
   ],
   "source": [
    "# Feature importances \n",
    "model_lr = LogisticRegression(random_state=42)\n",
    "model_lr.fit(X_train, y_train)\n",
    "\n",
    "# Get feature importances\n",
    "importances = np.abs(model_lr.coef_)[0]\n",
    "\n",
    "# Sort feature importances in descending order\n",
    "indices = np.argsort(importances)[::-1]\n",
    "\n",
    "# Rearrange feature names so they match the sorted feature importances\n",
    "names = [X.columns[i] for i in indices]\n",
    "\n",
    "# Create plot\n",
    "plt.figure()\n",
    "\n",
    "# Create plot title\n",
    "plt.title(\"Feature Importance\")\n",
    "\n",
    "# Add bars\n",
    "plt.bar(range(X.shape[1]), importances[indices])\n",
    "\n",
    "# Add feature names as x-axis labels\n",
    "plt.xticks(range(X.shape[1]), names, rotation=90)\n",
    "\n",
    "# Show plot\n",
    "plt.show()"
   ]
  },
  {
   "cell_type": "markdown",
   "id": "f8813f62",
   "metadata": {},
   "source": [
    "###  3: XGBoost"
   ]
  },
  {
   "cell_type": "code",
   "execution_count": 150,
   "id": "5c7eaadd",
   "metadata": {
    "scrolled": true
   },
   "outputs": [
    {
     "name": "stdout",
     "output_type": "stream",
     "text": [
      "Accuracy: 0.8864\n",
      "Precision: 0.8872\n",
      "Recall: 0.8864\n",
      "F1 score: 0.8866\n"
     ]
    }
   ],
   "source": [
    "# Create XGBoost classifier with default parameters\n",
    "model_xgb = XGBClassifier()\n",
    "\n",
    "# Fit the classifier to the training data\n",
    "model_xgb.fit(X_train, y_train)\n",
    "\n",
    "# Make predictions on the testing data\n",
    "y_pred = model_xgb.predict(X_test)\n",
    "\n",
    "# Calculate the accuracy, precision, recall and F1 of the classifier\n",
    "accuracy_xg = accuracy_score(y_test, y_pred)\n",
    "precision_xg = precision_score(y_test, y_pred, average='weighted')\n",
    "recall_xg = recall_score(y_test, y_pred, average='weighted')\n",
    "f1_xg = f1_score(y_test, y_pred, average='weighted')\n",
    "\n",
    "\n",
    "print(\"Accuracy: {:.4f}\".format(accuracy_xg))\n",
    "print(\"Precision: {:.4f}\".format(precision_xg))\n",
    "print(\"Recall: {:.4f}\".format(recall_xg))\n",
    "print(\"F1 score: {:.4f}\".format(f1_xg))"
   ]
  },
  {
   "cell_type": "code",
   "execution_count": 201,
   "id": "fb443ce3",
   "metadata": {},
   "outputs": [
    {
     "name": "stdout",
     "output_type": "stream",
     "text": [
      "Cross-validation scores: [0.87735849 0.91943128 0.88625592 0.92417062 0.8957346  0.87677725\n",
      " 0.91943128 0.87203791 0.92417062 0.95260664]\n",
      "Mean: 0.9047974604310113\n"
     ]
    }
   ],
   "source": [
    "# Perform cross Validation \n",
    "\n",
    "# Set up KFold cross-validation\n",
    "kfold = KFold(n_splits=10, shuffle=True, random_state=42)\n",
    "\n",
    "# Perform 10-fold cross-validation\n",
    "xg_cv = cross_val_score(model_xgb, X, y, cv=kfold)\n",
    "xg_cv\n",
    "\n",
    "# Print the cross-validation scores\n",
    "print(\"Cross-validation scores:\", xg_cv)\n",
    "\n",
    "# Print mean cross-validation score\n",
    "print(\"Mean:\", np.mean(xg_cv))"
   ]
  },
  {
   "cell_type": "code",
   "execution_count": 202,
   "id": "f0bc2881",
   "metadata": {},
   "outputs": [
    {
     "data": {
      "image/png": "[encoded data removed]",
      "text/plain": [
       "<Figure size 576x396 with 1 Axes>"
      ]
     },
     "metadata": {},
     "output_type": "display_data"
    }
   ],
   "source": [
    "# Get feature importances\n",
    "importances = model_xgb.feature_importances_\n",
    "\n",
    "# Sort feature importances in descending order\n",
    "indices = np.argsort(importances)[::-1]\n",
    "\n",
    "# Rearrange feature names so they match the sorted feature importances\n",
    "names = [X.columns[i] for i in indices]\n",
    "\n",
    "# Create plot\n",
    "plt.figure()\n",
    "\n",
    "# Create plot title\n",
    "plt.title(\"Feature Importance\")\n",
    "\n",
    "# Add bars\n",
    "plt.bar(range(X.shape[1]), importances[indices])\n",
    "\n",
    "# Add feature names as x-axis labels\n",
    "plt.xticks(range(X.shape[1]), names, rotation=90)\n",
    "\n",
    "# Show plot\n",
    "plt.show()\n"
   ]
  },
  {
   "cell_type": "markdown",
   "id": "7f0a4b47",
   "metadata": {},
   "source": [
    " ### 4: Decision Tree"
   ]
  },
  {
   "cell_type": "code",
   "execution_count": 119,
   "id": "67d8d217",
   "metadata": {},
   "outputs": [
    {
     "name": "stdout",
     "output_type": "stream",
     "text": [
      "Accuracy: 0.8028\n",
      "Precision: 0.8013\n",
      "Recall: 0.8028\n",
      "F1 score: 0.8019\n"
     ]
    }
   ],
   "source": [
    "# Create a decision tree classifier with default parameters\n",
    "dtc = DecisionTreeClassifier()\n",
    "\n",
    "# Fit the classifier to the training data\n",
    "dtc.fit(X_train, y_train)\n",
    "\n",
    "# Make predictions on the testing data\n",
    "y_pred = dtc.predict(X_test)\n",
    "\n",
    "# Calculate the accuracy, precision, recall and F1 of the classifier\n",
    "accuracy_dt = accuracy_score(y_test, y_pred)\n",
    "precision_dt = precision_score(y_test, y_pred, average='weighted')\n",
    "recall_dt = recall_score(y_test, y_pred, average='weighted')\n",
    "f1_dt = f1_score(y_test, y_pred, average='weighted')\n",
    "\n",
    "\n",
    "print(\"Accuracy: {:.4f}\".format(accuracy_dt))\n",
    "print(\"Precision: {:.4f}\".format(precision_dt))\n",
    "print(\"Recall: {:.4f}\".format(recall_dt))\n",
    "print(\"F1 score: {:.4f}\".format(f1_dt))"
   ]
  },
  {
   "cell_type": "code",
   "execution_count": 203,
   "id": "9b250db4",
   "metadata": {},
   "outputs": [
    {
     "name": "stdout",
     "output_type": "stream",
     "text": [
      "Cross-validation scores: [0.78301887 0.79146919 0.81990521 0.79620853 0.81990521 0.74881517\n",
      " 0.81990521 0.82938389 0.82938389 0.81042654]\n",
      "Mean: 0.8048421711526424\n"
     ]
    }
   ],
   "source": [
    "# Perform cross Validation \n",
    "\n",
    "# Set up KFold cross-validation\n",
    "kfold = KFold(n_splits=10, shuffle=True, random_state=42)\n",
    "\n",
    "# Perform 10-fold cross-validation\n",
    "dt_cv = cross_val_score(dtc, X, y, cv=kfold)\n",
    "\n",
    "# Print the cross-validation scores\n",
    "print(\"Cross-validation scores:\", dt_cv)\n",
    "\n",
    "# Print mean cross-validation score\n",
    "print(\"Mean:\", np.mean(dt_cv))"
   ]
  },
  {
   "cell_type": "code",
   "execution_count": 73,
   "id": "34c4aff0",
   "metadata": {},
   "outputs": [
    {
     "data": {
      "image/png": "[encoded data removed]",
      "text/plain": [
       "<Figure size 576x396 with 1 Axes>"
      ]
     },
     "metadata": {},
     "output_type": "display_data"
    }
   ],
   "source": [
    "dtc = DecisionTreeClassifier()\n",
    "dtc.fit(X_train, y_train)\n",
    "\n",
    "# Get feature importances\n",
    "importances = dtc.feature_importances_\n",
    "\n",
    "# Sort feature importances in descending order\n",
    "indices = np.argsort(importances)[::-1]\n",
    "\n",
    "# Rearrange feature names so they match the sorted feature importances\n",
    "names = [X.columns[i] for i in indices]\n",
    "\n",
    "# Create plot\n",
    "plt.figure()\n",
    "\n",
    "# Create plot title\n",
    "plt.title(\"Feature Importance\")\n",
    "\n",
    "# Add bars\n",
    "plt.bar(range(X.shape[1]), importances[indices])\n",
    "\n",
    "# Add feature names as x-axis labels\n",
    "plt.xticks(range(X.shape[1]), names, rotation=90)\n",
    "\n",
    "# Show plot\n",
    "plt.show()"
   ]
  },
  {
   "cell_type": "markdown",
   "id": "0026eefe",
   "metadata": {},
   "source": [
    "### 5: K Nearest Neighbors (KNN)"
   ]
  },
  {
   "cell_type": "code",
   "execution_count": 195,
   "id": "2545e253",
   "metadata": {},
   "outputs": [
    {
     "name": "stdout",
     "output_type": "stream",
     "text": [
      "Accuracy: 0.8170\n",
      "Precision: 0.8200\n",
      "Recall: 0.8170\n",
      "F1 score: 0.8134\n"
     ]
    }
   ],
   "source": [
    "# create KNN classifier with k=\n",
    "knc = KNeighborsClassifier(n_neighbors=5)\n",
    "\n",
    "# Fit the classifier to the training data\n",
    "knc.fit(X_train, y_train)\n",
    "\n",
    "# Make predictions on the testing data\n",
    "y_pred = knc.predict(X_test)\n",
    "\n",
    "# Calculate the accuracy, precision, recall and F1 of the classifier\n",
    "accuracy_kn = accuracy_score(y_test, y_pred)\n",
    "precision_kn = precision_score(y_test, y_pred, average='weighted')\n",
    "recall_kn = recall_score(y_test, y_pred, average='weighted')\n",
    "f1_kn = f1_score(y_test, y_pred, average='weighted')\n",
    "\n",
    "\n",
    "print(\"Accuracy: {:.4f}\".format(accuracy_kn))\n",
    "print(\"Precision: {:.4f}\".format(precision_kn))\n",
    "print(\"Recall: {:.4f}\".format(recall_kn))\n",
    "print(\"F1 score: {:.4f}\".format(f1_kn))"
   ]
  },
  {
   "cell_type": "code",
   "execution_count": 204,
   "id": "0d72f9b4",
   "metadata": {},
   "outputs": [
    {
     "name": "stdout",
     "output_type": "stream",
     "text": [
      "Cross validation scores: [0.83962264 0.82938389 0.80094787 0.8436019  0.8056872  0.76777251\n",
      " 0.8056872  0.81042654 0.85308057 0.87203791]\n",
      "Mean: 0.8228248233926495\n"
     ]
    }
   ],
   "source": [
    "# Set up KFold cross-validation\n",
    "kfold = KFold(n_splits=10, shuffle=True, random_state=42)\n",
    "\n",
    "# Perform 10-fold cross-validation\n",
    "kn_cv = cross_val_score(knc, X, y, cv=kfold)\n",
    "kn_cv\n",
    "\n",
    "# Print the cross-validation scores\n",
    "print(\"Cross validation scores:\", kn_cv)\n",
    "\n",
    "# Print mean cross-validation score\n",
    "print(\"Mean:\", np.mean(kn_cv))"
   ]
  },
  {
   "cell_type": "code",
   "execution_count": 76,
   "id": "fddfa115",
   "metadata": {},
   "outputs": [
    {
     "name": "stdout",
     "output_type": "stream",
     "text": [
      "Gender: 0.03710223425863237\n",
      "Age: 0.3647935003385241\n",
      "Height: 0.00027081922816523106\n",
      "family_history: 0.023967501692620206\n",
      "FAVC: 0.014353419092755625\n",
      "FCVC: 0.03628977657413681\n",
      "NCP: 0.07312119160460398\n",
      "CAEC: 0.027623561272850417\n",
      "SMOKE: 0.0\n",
      "CH2O: 0.028571428571428602\n",
      "SCC: 0.003114421123899813\n",
      "FAF: 0.061069735951252556\n",
      "TUE: 0.0421123899796886\n",
      "CALC: 0.02329045362220721\n",
      "MTRANS: 0.07014218009478679\n"
     ]
    }
   ],
   "source": [
    "# Fit the KNN classifier on the entire dataset\n",
    "knc.fit(X_train, y_train)\n",
    "\n",
    "# Compute feature importances using permutation importance\n",
    "importances = permutation_importance(knc, X_train, y_train)\n",
    "\n",
    "# Print the feature importances\n",
    "for feature, importance in zip(X.columns, importances.importances_mean):\n",
    "    print(f\"{feature}: {importance}\")"
   ]
  },
  {
   "cell_type": "code",
   "execution_count": 77,
   "id": "ac5fb8ed",
   "metadata": {},
   "outputs": [
    {
     "name": "stdout",
     "output_type": "stream",
     "text": [
      "[  7.25956298  91.47014815  14.66013186 278.61098222  59.13482969\n",
      "  27.76753746  15.83580331 180.49168132   0.56341073  13.61767899\n",
      "  29.39838297  29.91795767   9.01541155  10.25426665   5.73789924]\n",
      "[ 1  3  4  7 11]\n",
      "Index(['Age', 'family_history', 'FAVC', 'CAEC', 'FAF'], dtype='object')\n"
     ]
    }
   ],
   "source": [
    "# Another method\n",
    "knc.fit(X_train, y_train)\n",
    "\n",
    "# Create SelectKBest object with f_classif score function and the number of features to select\n",
    "knc_selector = SelectKBest(score_func=f_classif, k=5)\n",
    "\n",
    "# Fit the SelectKBest object to the data\n",
    "knc_selector.fit(X_train, y_train)\n",
    "\n",
    "# Print the scores and rankings of the features\n",
    "print(knc_selector.scores_)\n",
    "print(knc_selector.get_support(indices=True))\n",
    "\n",
    "selected_features = df.columns[knc_selector.get_support(indices=True)]\n",
    "print(selected_features)\n"
   ]
  },
  {
   "cell_type": "markdown",
   "id": "b3a5888d",
   "metadata": {},
   "source": [
    "# Comparing the models"
   ]
  },
  {
   "cell_type": "code",
   "execution_count": 194,
   "id": "9e7233ec",
   "metadata": {
    "scrolled": false
   },
   "outputs": [
    {
     "name": "stdout",
     "output_type": "stream",
     "text": [
      "Random_Forest Accuracy: 0.8991 Precision: 0.9014 Recall: 0.8991 F1 score: 0.8990 Cross_Validation:0.8879\n",
      "Logistc_Regre Accuracy: 0.7066 Precision: 0.6903 Recall: 0.7066 F1 score: 0.6815 Cross_Validation:0.6604\n",
      "XGBoost       Accuracy: 0.8864 Precision: 0.8872 Recall: 0.8864 F1 score: 0.8866 Cross_Validation:0.9048\n",
      "DecisionTree  Accuracy: 0.8028 Precision: 0.8013 Recall: 0.8028 F1 score: 0.8019 Cross_Validation:0.8110\n",
      "KNNeighbors   Accuracy: 0.8170 Precision: 0.8200 Recall: 0.8170 F1 score: 0.8134 Cross_Validation:0.8144\n"
     ]
    }
   ],
   "source": [
    "print(\"Random_Forest\", \"Accuracy: {:.4f}\".format(accuracy_rf), (\"Precision: {:.4f}\".format(precision_rf)), (\"Recall: {:.4f}\".format(recall_rf)), (\"F1 score: {:.4f}\".format(f1_rf)),(\"Cross_Validation:{:.4f}\".format(np.mean(rf_cv))))\n",
    "print(\"Logistc_Regre\", \"Accuracy: {:.4f}\".format(accuracy_lr), (\"Precision: {:.4f}\".format(precision_lr)), (\"Recall: {:.4f}\".format(recall_lr)), (\"F1 score: {:.4f}\".format(f1_lr)),(\"Cross_Validation:{:.4f}\".format(np.mean(lr_cv))))\n",
    "print(\"XGBoost      \", \"Accuracy: {:.4f}\".format(accuracy_xg), (\"Precision: {:.4f}\".format(precision_xg)), (\"Recall: {:.4f}\".format(recall_xg)), (\"F1 score: {:.4f}\".format(f1_xg)),(\"Cross_Validation:{:.4f}\".format(np.mean(xg_cv))))\n",
    "print(\"DecisionTree \", \"Accuracy: {:.4f}\".format(accuracy_dt), (\"Precision: {:.4f}\".format(precision_dt)), (\"Recall: {:.4f}\".format(recall_dt)), (\"F1 score: {:.4f}\".format(f1_dt)),(\"Cross_Validation:{:.4f}\".format(np.mean(dt_cv))))\n",
    "print(\"KNNeighbors  \", \"Accuracy: {:.4f}\".format(accuracy_kn), (\"Precision: {:.4f}\".format(precision_kn)), (\"Recall: {:.4f}\".format(recall_kn)), (\"F1 score: {:.4f}\".format(f1_kn)),(\"Cross_Validation:{:.4f}\".format(np.mean(kn_cv))))"
   ]
  },
  {
   "cell_type": "markdown",
   "id": "a49847dc",
   "metadata": {},
   "source": [
    "### Results"
   ]
  },
  {
   "cell_type": "markdown",
   "id": "0e080049",
   "metadata": {},
   "source": [
    "Based on this comparison, I can make following observations:\n",
    "\n",
    "XGBoost: XGBoost has the highest cross-validation mean score of 0.9048, indicating that the model generalizes well on unseen data. It also has high accuracy, precision, recall, and F1 score, which suggests that it performs well on the test data.\n",
    "\n",
    "Random Forest: Random Forest has the second-highest cross-validation mean score of 0.8879, and high accuracy, precision, recall, and F1 score. This indicates that it is a strong performer on the test data.\n",
    "\n",
    "K-Nearest Neighbors: K-Nearest Neighbors has a cross-validation score of 0.8144, which is relatively high compared to the other models. It also has high accuracy, precision, recall, and F1 score, which suggests that it performs well on the test data.\n",
    "\n",
    "Decision Tree: Decision Tree has a cross-validation score of 0.8110, which is slightly lower than the other models. It has relatively high accuracy, precision, recall, and F1 score, but not as high as the top-performing models.\n",
    "\n",
    "Logistic Regression: Logistic Regression has the lowest cross-validation mean score of 0.6604, and relatively low accuracy, precision, recall, and F1 score. This indicates that it may not perform as well as the other models on the test data.\n",
    "\n",
    "Overall, XGBoost and Random Forest are the top-performing models based on the reported metrics. However, the choice of evaluation metric and the size and quality of the data can affect the model performance."
   ]
  }
 ],
 "metadata": {
  "kernelspec": {
   "display_name": "Python 3 (ipykernel)",
   "language": "python",
   "name": "python3"
  },
  "language_info": {
   "codemirror_mode": {
    "name": "ipython",
    "version": 3
   },
   "file_extension": ".py",
   "mimetype": "text/x-python",
   "name": "python",
   "nbconvert_exporter": "python",
   "pygments_lexer": "ipython3",
   "version": "3.9.7"
  }
 },
 "nbformat": 4,
 "nbformat_minor": 5
}
